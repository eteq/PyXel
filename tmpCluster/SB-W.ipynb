{
 "cells": [
  {
   "cell_type": "code",
   "execution_count": 3,
   "metadata": {
    "collapsed": true
   },
   "outputs": [],
   "source": [
    "%matplotlib inline\n",
    "import numpy as np\n",
    "import matplotlib.pylab as plt\n",
    "import matplotlib.ticker as mtick"
   ]
  },
  {
   "cell_type": "code",
   "execution_count": 4,
   "metadata": {
    "collapsed": true
   },
   "outputs": [],
   "source": [
    "from pyxel.models import BrokenPow\n",
    "from astropy.modeling.powerlaws import PowerLaw1D\n",
    "from astropy.modeling.functional_models import Const1D\n",
    "from astropy.modeling.fitting import LevMarLSQFitter"
   ]
  },
  {
   "cell_type": "markdown",
   "metadata": {},
   "source": [
    "Read the surface brightness profile from the text file. The profile is restricted to the radial range 100-330 arcmin (not much beyond 330 arcmin)."
   ]
  },
  {
   "cell_type": "code",
   "execution_count": 17,
   "metadata": {
    "collapsed": false
   },
   "outputs": [],
   "source": [
    "sb_file = \"sb_w_07_2_100.txt\"\n",
    "with open(sb_file) as f:\n",
    "    data = f.readlines()\n",
    "\n",
    "rmin = 80.\n",
    "rmax = 225.\n",
    "\n",
    "# central radii of the bins\n",
    "r = np.array([float(line.split()[0]) for line in data if rmin <= float(line.split()[0]) <= rmax])\n",
    "\n",
    "# surface brightness \n",
    "sb = np.array([float(line.split()[1]) for line in data if rmin <= float(line.split()[0]) <= rmax])\n",
    "\n",
    "# uncertainties on surface brightness\n",
    "sb_err = np.array([float(line.split()[2]) for line in data if rmin <= float(line.split()[0]) <= rmax])"
   ]
  },
  {
   "cell_type": "markdown",
   "metadata": {},
   "source": [
    "Plot the surface brightness profile to get an idea of what needs to be fitted to it."
   ]
  },
  {
   "cell_type": "code",
   "execution_count": 18,
   "metadata": {
    "collapsed": false
   },
   "outputs": [
    {
     "data": {
      "image/png": "[encoded data removed]",
      "text/plain": [
       "<matplotlib.figure.Figure at 0x10bf76be0>"
      ]
     },
     "metadata": {},
     "output_type": "display_data"
    }
   ],
   "source": [
    "fig, ax = plt.subplots(figsize=(12, 5))\n",
    "plt.scatter(r, sb, s=30, marker='s', c=\"k\")\n",
    "plt.errorbar(r, sb, yerr=sb_err, linestyle=\"None\", c=\"k\")\n",
    "\n",
    "plt.xlim(rmin, rmax)\n",
    "plt.ylim(1e-4, 1e-3)\n",
    "plt.semilogy()\n",
    "\n",
    "plt.xlabel('Distance (arcmin)', size=15)\n",
    "plt.ylabel(r\"Surface Brightness (cts s$^{-1}$ arcmin$^{-2}$)\", size=15)\n",
    "\n",
    "plt.tick_params(axis='both', which='major', labelsize=14)\n",
    "plt.tick_params(axis='both', which='minor', labelsize=14)\n",
    "ax.xaxis.set_major_formatter(mtick.FormatStrFormatter('%.0f'))\n",
    "ax.xaxis.set_minor_formatter(mtick.FormatStrFormatter('%.0f'))"
   ]
  },
  {
   "cell_type": "markdown",
   "metadata": {},
   "source": [
    "Fit the background with a constant."
   ]
  },
  {
   "cell_type": "code",
   "execution_count": 19,
   "metadata": {
    "collapsed": false
   },
   "outputs": [
    {
     "name": "stdout",
     "output_type": "stream",
     "text": [
      "Model: Const1D\n",
      "Inputs: ('x',)\n",
      "Outputs: ('y',)\n",
      "Model set size: 1\n",
      "Parameters:\n",
      "        amplitude    \n",
      "    -----------------\n",
      "    0.000206174431963\n",
      "Parameter uncertainties (free params, if bounds not reached): \n",
      " [4.359546407933497e-06]\n"
     ]
    },
    {
     "name": "stderr",
     "output_type": "stream",
     "text": [
      "WARNING: Model is linear in parameters; consider using linear fitting methods. [astropy.modeling.fitting]\n"
     ]
    }
   ],
   "source": [
    "r0 = np.array([x for x in r if x > 180.])\n",
    "sb0 = np.array([sb[i] for i in range(len(sb)) if r[i] > 180.])\n",
    "sb0_err = np.array([sb_err[i] for i in range(len(sb_err)) if r[i] > 180.])\n",
    "model0 = Const1D(amplitude=1.5e-4)\n",
    "\n",
    "fit0 = LevMarLSQFitter()\n",
    "fitted_model0 = fit0(model0, r0, sb0, weights=1./sb0_err, estimate_jacobian=True, maxiter=1000)\n",
    "print(fitted_model0)\n",
    "\n",
    "if fit0.fit_info['param_cov'] is not None:\n",
    "    uncertainties = [np.sqrt(x) for x in fit0.fit_info['param_cov'].diagonal()]\n",
    "    print('Parameter uncertainties (free params, if bounds not reached): \\n', uncertainties)"
   ]
  },
  {
   "cell_type": "markdown",
   "metadata": {},
   "source": [
    "Plot the background model."
   ]
  },
  {
   "cell_type": "code",
   "execution_count": 20,
   "metadata": {
    "collapsed": false
   },
   "outputs": [
    {
     "data": {
      "image/png": "[encoded data removed]",
      "text/plain": [
       "<matplotlib.figure.Figure at 0x10e3aa6a0>"
      ]
     },
     "metadata": {},
     "output_type": "display_data"
    }
   ],
   "source": [
    "fig, ax = plt.subplots(figsize=(12, 5))\n",
    "\n",
    "plt.scatter(r0, sb0, s=30, marker='s', c=\"k\")\n",
    "plt.errorbar(r0, sb0, yerr=sb0_err, linestyle=\"None\", c=\"k\")\n",
    "plt.plot(r0, fitted_model0(r0), c='r')\n",
    "\n",
    "plt.xlim(np.min(r0), np.max(r0))\n",
    "plt.ylim(1e-4, 5e-4)\n",
    "plt.loglog()\n",
    "\n",
    "plt.xlabel('Distance (arcmin)', size=15)\n",
    "plt.ylabel(r\"Surface Brightness (cts s$^{-1}$ arcmin$^{-2}$)\", size=15)\n",
    "\n",
    "plt.tick_params(axis='both', which='major', labelsize=14)\n",
    "plt.tick_params(axis='both', which='minor', labelsize=14)\n",
    "ax.xaxis.set_major_formatter(mtick.FormatStrFormatter('%.0f'))\n",
    "ax.xaxis.set_minor_formatter(mtick.FormatStrFormatter('%.0f'))"
   ]
  },
  {
   "cell_type": "markdown",
   "metadata": {},
   "source": [
    "Fit the profile with a simple power-law."
   ]
  },
  {
   "cell_type": "code",
   "execution_count": 21,
   "metadata": {
    "collapsed": false
   },
   "outputs": [
    {
     "name": "stdout",
     "output_type": "stream",
     "text": [
      "Model: CompoundModel0\n",
      "Inputs: ('x',)\n",
      "Outputs: ('y',)\n",
      "Model set size: 1\n",
      "Expression: [0] + [1]\n",
      "Components: \n",
      "    [0]: <PowerLaw1D(amplitude=0.0003, x_0=10.0, alpha=3.0)>\n",
      "\n",
      "    [1]: <Const1D(amplitude=0.00021)>\n",
      "Parameters:\n",
      "     amplitude_0   x_0_0    alpha_0    amplitude_1\n",
      "    -------------- ----- ------------- -----------\n",
      "    0.188899806532  10.0 3.12695546871     0.00021 \n",
      "\n",
      "Parameter uncertainties (free params, if bounds not reached): \n",
      " [0.11839267147992878, 0.26830967033182707]\n"
     ]
    }
   ],
   "source": [
    "model2 = PowerLaw1D(amplitude=3e-4, x_0=10., alpha=3.) + Const1D(amplitude=2.1e-4)\n",
    "model2.x_0_0.fixed = True\n",
    "model2.amplitude_1.fixed = True\n",
    "\n",
    "fit2 = LevMarLSQFitter()\n",
    "fitted_model2 = fit2(model2, r, sb, weights=1./sb_err, estimate_jacobian=True, maxiter=2000)\n",
    "print(fitted_model2, '\\n')\n",
    "\n",
    "if fit2.fit_info['param_cov'] is not None:\n",
    "    uncertainties = [np.sqrt(x) for x in fit2.fit_info['param_cov'].diagonal()]\n",
    "    print('Parameter uncertainties (free params, if bounds not reached): \\n', uncertainties)"
   ]
  },
  {
   "cell_type": "markdown",
   "metadata": {},
   "source": [
    "Plot the best-fitting power-law."
   ]
  },
  {
   "cell_type": "code",
   "execution_count": 22,
   "metadata": {
    "collapsed": false
   },
   "outputs": [
    {
     "data": {
      "image/png": "[encoded data removed]",
      "text/plain": [
       "<matplotlib.figure.Figure at 0x10c7a14e0>"
      ]
     },
     "metadata": {},
     "output_type": "display_data"
    }
   ],
   "source": [
    "fig, ax = plt.subplots(figsize=(12, 5))\n",
    "\n",
    "plt.scatter(r, sb, s=30, marker='s', c=\"k\")\n",
    "plt.errorbar(r, sb, yerr=sb_err, linestyle=\"None\", c=\"k\")\n",
    "plt.plot(r, fitted_model2(r), c='r')\n",
    "\n",
    "plt.xlim(rmin, rmax)\n",
    "plt.ylim(1e-4, 1e-3)\n",
    "plt.loglog()\n",
    "\n",
    "plt.xlabel('Distance (arcmin)', size=15)\n",
    "plt.ylabel(r\"Surface Brightness (cts s$^{-1}$ arcmin$^{-2}$)\", size=15)\n",
    "\n",
    "plt.tick_params(axis='both', which='major', labelsize=14)\n",
    "plt.tick_params(axis='both', which='minor', labelsize=14)\n",
    "ax.xaxis.set_major_formatter(mtick.FormatStrFormatter('%.0f'))\n",
    "ax.xaxis.set_minor_formatter(mtick.FormatStrFormatter('%.0f'))"
   ]
  },
  {
   "cell_type": "code",
   "execution_count": null,
   "metadata": {
    "collapsed": true
   },
   "outputs": [],
   "source": []
  }
 ],
 "metadata": {
  "kernelspec": {
   "display_name": "Python 3",
   "language": "python",
   "name": "python3"
  },
  "language_info": {
   "codemirror_mode": {
    "name": "ipython",
    "version": 3
   },
   "file_extension": ".py",
   "mimetype": "text/x-python",
   "name": "python",
   "nbconvert_exporter": "python",
   "pygments_lexer": "ipython3",
   "version": "3.5.1"
  }
 },
 "nbformat": 4,
 "nbformat_minor": 0
}
